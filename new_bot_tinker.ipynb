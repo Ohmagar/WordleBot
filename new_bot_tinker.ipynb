{
 "cells": [
  {
   "cell_type": "code",
   "execution_count": 76,
   "metadata": {},
   "outputs": [],
   "source": [
    "import json\n",
    "with open('problematic_2_5.json', 'r+') as fp:\n",
    "    problematic = json.load(fp)['problematic_2_5']\n",
    "with open('combined_wordlist_2.txt', 'r') as f:\n",
    "    wordlist = f.read().split('\\n')[1:]\n",
    "historylist = []\n",
    "analytical = {}"
   ]
  },
  {
   "cell_type": "code",
   "execution_count": 65,
   "metadata": {},
   "outputs": [
    {
     "name": "stdout",
     "output_type": "stream",
     "text": [
      "12972\n"
     ]
    }
   ],
   "source": [
    "print(len(wordlist))"
   ]
  },
  {
   "cell_type": "code",
   "execution_count": 77,
   "metadata": {},
   "outputs": [],
   "source": [
    "roundlist = []\n",
    "for j in range(13):\n",
    "    roundlist.append((1000*j, 1000*(j+1)))\n",
    "roundlist[-1] = (12000, 12972)"
   ]
  },
  {
   "cell_type": "code",
   "execution_count": null,
   "metadata": {
    "scrolled": true
   },
   "outputs": [
    {
     "name": "stdout",
     "output_type": "stream",
     "text": [
      "24.60|246|1000|gater\r"
     ]
    }
   ],
   "source": [
    "rounds = len(wordlist)\n",
    "rounds = (2000,3000)\n",
    "for rounds in roundlist[:2]:\n",
    "    player = AutoWordlePlayer(wordlist, rounds, WordleSolver, 4, 5, 2, 10)\n",
    "    player.play_round()\n",
    "    average_guesses = player.average_guesses()\n",
    "    #print(f\"Average guesses per round: {average_guesses}\")\n",
    "    average_time = player.average_time()\n",
    "    #print(f\"Average time per round: {average_time}\")\n",
    "    #print(player.return_stats())\n",
    "    for kl in player.history_history:\n",
    "        historylist.append(kl)\n",
    "#for kl in player.history_history:\n",
    "    #print(kl)\n",
    "#three_pointers = player.threes\n",
    "#{3: 52, 4: 192, 5: 164, 6: 71, 7: 16, 8: 3, 9: 2}\n",
    "#3: 615, 4: 2216, 5: 1517, 6: 489, 7: 141, 8: 21, 9: 1}\n",
    "#3: 847, 4: 1731, 5: 1619, 6: 555, 7: 201, 8: 42, 9: 5}\n",
    "#1: 1, 2: 1, 3: 2305, 4: 4610, 5: 4088, 6: 1428, 7: 427, 8: 99, 9: 12, 10: 1}\n",
    "#1: 1, 2: 176, 3: 2109, 4: 3981, 5: 4448, 6: 1620, 7: 499, 8: 116, 9: 20, 10: 1, 11: 1}\n",
    "#1: 1, 2: 176, 3: 2109, 4: 3731, 5: 4889, 6: 1621, 7: 362, 8: 69, 9: 12, 10: 1, 11: 1}\n",
    "#1: 1, 2: 176, 3: 2118, 4: 4124, 5: 4171, 6: 1567, 7: 557, 8: 197, 9: 55, 10: 5, 11: 1}"
   ]
  },
  {
   "cell_type": "code",
   "execution_count": 69,
   "metadata": {},
   "outputs": [
    {
     "name": "stdout",
     "output_type": "stream",
     "text": [
      "[5, 3]\n"
     ]
    },
    {
     "data": {
      "text/plain": [
       "{0: 0,\n",
       " 1: 1,\n",
       " 2: 176,\n",
       " 3: 2118,\n",
       " 4: 2817,\n",
       " 5: 5782,\n",
       " 6: 1668,\n",
       " 7: 339,\n",
       " 8: 61,\n",
       " 9: 8,\n",
       " 10: 1,\n",
       " 11: 1,\n",
       " 12: 0,\n",
       " 13: 0,\n",
       " 14: 0}"
      ]
     },
     "execution_count": 69,
     "metadata": {},
     "output_type": "execute_result"
    }
   ],
   "source": [
    "length_guesses = [len(wfb) for wfb in historylist]\n",
    "print(length_guesses[:2])\n",
    "cnt = Counter(length_guesses)\n",
    "{i: cnt[i] for i in range(15)}"
   ]
  },
  {
   "cell_type": "code",
   "execution_count": 23,
   "metadata": {},
   "outputs": [],
   "source": [
    "problematic = []\n",
    "for kl in player.history_history:\n",
    "    if len(kl) >= 5:\n",
    "        problematic.append(kl[-1][0])"
   ]
  },
  {
   "cell_type": "code",
   "execution_count": 26,
   "metadata": {},
   "outputs": [],
   "source": [
    "dz = {'problematic_2_5': problematic.copy()}\n",
    "import json\n",
    "with open('problematic_2_5.json', 'w+') as fp:\n",
    "    json.dump(dz, fp, indent=4)"
   ]
  },
  {
   "cell_type": "code",
   "execution_count": 15,
   "metadata": {},
   "outputs": [
    {
     "data": {
      "text/plain": [
       "[('toeas', 12972), ('riled', 962), ('lairy', 825)]"
      ]
     },
     "execution_count": 15,
     "metadata": {},
     "output_type": "execute_result"
    }
   ],
   "source": [
    "hh = player.guess_history_output\n",
    "Counter(hh).most_common(3)"
   ]
  },
  {
   "cell_type": "code",
   "execution_count": null,
   "metadata": {},
   "outputs": [
    {
     "name": "stdout",
     "output_type": "stream",
     "text": [
      "9.87\r"
     ]
    }
   ],
   "source": [
    "n = (5, 2000)\n",
    "for i in range(*n):\n",
    "    print(f'{(i-n[0])/(n[1]-n[0])*100:.2f}', end='\\r')\n",
    "    time.sleep(0.1)\n",
    "# Output: 11.90%"
   ]
  },
  {
   "cell_type": "code",
   "execution_count": 81,
   "metadata": {},
   "outputs": [],
   "source": [
    "import random\n",
    "from time import perf_counter_ns as pcn\n",
    "class AutoWordlePlayer:\n",
    "    def __init__(self, wordlist, n, agent, length_final_words, amount_of_letters, length_history, length_outlist):\n",
    "        self.wordlist = wordlist\n",
    "        self.current_word = random.choice(wordlist)\n",
    "        self.rounds_played = 0\n",
    "        self.total_guesses = 0\n",
    "        self.feedback_history = []\n",
    "        self.times_per_round = []\n",
    "        if isinstance(n, tuple):\n",
    "            self.n = n \n",
    "        elif isinstance(n, list):\n",
    "            self.wordlist = n\n",
    "            self.n = [0, len(self.wordlist)]\n",
    "        else:\n",
    "            self.n = [0, n]\n",
    "        self.solving_agent = agent\n",
    "        self.stats = {i:0 for i in range(20)}\n",
    "        self.history_history = []\n",
    "        self.threes = set()\n",
    "        self.guess_history_output = []\n",
    "        self.length_final_words = length_final_words\n",
    "        self.amount_of_letters = amount_of_letters\n",
    "        self.length_history = length_history\n",
    "        self.length_outlist = length_outlist\n",
    "\n",
    "    def enter_playmode(self):\n",
    "        print(f\"Entering play mode with word: {self.current_word}\")\n",
    "\n",
    "    def make_guess(self, guess):\n",
    "        feedback = self._get_feedback(guess)\n",
    "        self.total_guesses += 1\n",
    "        self.feedback_history.append((guess, feedback))\n",
    "        return (guess, feedback)\n",
    "\n",
    "    def _get_feedback(self, guess):\n",
    "        feedback = ''\n",
    "        for g, w in zip(guess, self.current_word):\n",
    "            if g == w:\n",
    "                feedback += 'g'\n",
    "            elif g in self.current_word:\n",
    "                feedback += 'y'\n",
    "            else:\n",
    "                feedback += 'r'\n",
    "        return feedback\n",
    "\n",
    "    def play_round(self):\n",
    "        for i in range(*self.n):\n",
    "            self.feedback_history = []\n",
    "            self.solver = self.solving_agent(True, self.length_final_words, self.amount_of_letters, self.length_history, self.length_outlist)\n",
    "            self.current_word = wordlist[i]\n",
    "            print(f'{(i-self.n[0])/(self.n[1]-self.n[0])*100:4.2f}|{i-self.n[0]}|{self.n[1]-self.n[0]}|{self.current_word}', end='\\r')\n",
    "            start = pcn()\n",
    "            round_guesses = 0\n",
    "            while True:\n",
    "                guess = self.solver.guess(self.feedback_history)\n",
    "                self.guess_history_output.append(guess)\n",
    "                feedback = self.make_guess(guess)\n",
    "                round_guesses += 1\n",
    "                #print(f'{(i-self.n[0])/(self.n[1]-self.n[0])*100:4.2f}|{i-self.n[0]}|{self.n[1]-self.n[0]}|{self.current_word}|{guess}', end='\\r')\n",
    "                if feedback[1] == 'ggggg' or round_guesses >= 19:\n",
    "                    self.stats[round_guesses] += 1\n",
    "                    self.times_per_round.append(pcn()-start)\n",
    "                    self.rounds_played += 1\n",
    "                    #if round_guesses >= 6:\n",
    "                    self.history_history.append(self.feedback_history.copy())\n",
    "                    if round_guesses == 3:\n",
    "                        self.threes.add(guess)\n",
    "                    break\n",
    "            #print([x[0] for x in self.feedback_history])\n",
    "                \n",
    "                \n",
    "                \n",
    "    def return_stats(self):\n",
    "        deled = []\n",
    "        for k,v in self.stats.items():\n",
    "            if not v:\n",
    "                deled.append(k)\n",
    "        for x in deled:\n",
    "            del self.stats[x]\n",
    "        return self.stats\n",
    "    def average_guesses(self):\n",
    "        if self.rounds_played == 0:\n",
    "            return 0\n",
    "        return self.total_guesses / self.rounds_played\n",
    "    def average_time(self):\n",
    "        if self.rounds_played == 0:\n",
    "            return 0\n",
    "        return sum(self.times_per_round) / self.rounds_played / 1_000_000_000\n"
   ]
  },
  {
   "cell_type": "code",
   "execution_count": 75,
   "metadata": {},
   "outputs": [],
   "source": [
    "from collections import Counter\n",
    "import itertools\n",
    "class WordleSolver:\n",
    "    with open('combined_wordlist_2.txt', 'r') as f:\n",
    "        read_wordlist = f.read().split('\\n')[1:]\n",
    "        all_words = {c: {i: set() for i in range(5)} for c in 'abcdefghijklmnopqrstuvwxyz'}\n",
    "        for c in 'abcdefghijklmnopqrstuvwxyz':\n",
    "            all_words[c]['all'] = set()\n",
    "        zzz = set()\n",
    "        for word in read_wordlist:\n",
    "            for idx,c in enumerate(word):\n",
    "                all_words[c][idx].add(word)\n",
    "                all_words[c]['all'].add(word)\n",
    "        possible_words = set()\n",
    "        for c in 'abcdefghijklmnopqrstuvwxyz':\n",
    "            possible_words |= all_words[c]['all']\n",
    "\n",
    "    def __init__(self, hard_mode=True, length_final_words=4, amount_of_letters=5, length_history=2, length_outlist=10):\n",
    "        self.letters = {c: {i: set() for i in range(5)} for c in ('g', 'y', 'r')}\n",
    "        #self.letters['g'] = {i: set() for i in range(5)}\n",
    "        #self.letters['y'] = {i: set() for i in range(5)}\n",
    "        #self.letters['r'] = {i: set() for i in range(5)}\n",
    "        self.possible_words = set()\n",
    "        self.green_words = set()\n",
    "        self.yellow_words = WordleSolver.possible_words.copy()\n",
    "        self.red_words = set()\n",
    "        self.hard_mode = hard_mode\n",
    "        self.length_final_words = length_final_words\n",
    "        self.amount_of_letters = amount_of_letters\n",
    "        self.length_history = length_history\n",
    "        self.length_outlist = length_outlist\n",
    "        self.y_letter_removal_guess = 0\n",
    "\n",
    "    def guess(self, history):\n",
    "        if not history:\n",
    "            return 'toeas'\n",
    "        else:\n",
    "            #for unpack in history:\n",
    "                #for w,f,i in zip(*unpack, range(5)):\n",
    "                    #self.letters[f][i].add(w)\n",
    "            for ch, fb, idx in zip(*history[-1], range(5)):\n",
    "                self.letters[fb][idx].add(ch)\n",
    "                if fb == 'g':\n",
    "                    self.update_green_words(ch, idx)\n",
    "                    pass\n",
    "                elif fb == 'y':\n",
    "                    self.update_yellow_words(ch, idx)\n",
    "                    pass\n",
    "                else:\n",
    "                    self.update_red_words(ch, idx)\n",
    "                    pass\n",
    "        \n",
    "        if self.green_words:\n",
    "            if self.hard_mode:\n",
    "                final_words = (self.yellow_words & self.green_words) - self.red_words\n",
    "            else:\n",
    "                final_words = (self.yellow_words - self.green_words) - self.red_words\n",
    "        else:\n",
    "            final_words = self.yellow_words - self.red_words\n",
    "        \n",
    "        if len(final_words) > self.length_final_words and len(set(''.join(final_words))) > self.amount_of_letters and len(history) > self.length_history:\n",
    "            output_guess = self.get_fitting_letters(final_words)[0]\n",
    "        else:\n",
    "            out = self.analysis_hard_mode(final_words)\n",
    "            outlist = [c[0] for c in out[:self.length_outlist]]\n",
    "            output_guess = sorted(outlist, reverse=True, key=lambda x: sum(self.ranked_word[x]))[0]\n",
    "        return output_guess\n",
    "\n",
    "    \n",
    "    def update_green_words(self, letter, position):\n",
    "        if self.green_words:\n",
    "            self.green_words &= WordleSolver.all_words[letter][position]\n",
    "        else:\n",
    "            self.green_words = WordleSolver.all_words[letter][position].copy()\n",
    "    \n",
    "    def update_yellow_words(self, letter, position):\n",
    "        if self.green_words:\n",
    "            self.yellow_words &= self.green_words\n",
    "        self.yellow_words &= (WordleSolver.all_words[letter]['all'] - WordleSolver.all_words[letter][position])\n",
    "\n",
    "    def update_red_words(self, letter, position):\n",
    "        self.red_words |= WordleSolver.all_words[letter]['all']\n",
    "    \n",
    "\n",
    "    def analysis_hard_mode(self, words):\n",
    "        breakdown = Counter(''.join(words))\n",
    "        dictio = {word: sum([breakdown[c] for c in set(word)]) for word in words}\n",
    "        sorted_words = sorted([(k,v) for k,v in dictio.items()], reverse=True, key=lambda x: x[1])\n",
    "        self.analysis(words)\n",
    "        return sorted_words\n",
    "\n",
    "    def analysis(self, words):\n",
    "        ranking = {i: '' for i in range(5)}\n",
    "        for word in words:\n",
    "            for idx, c in enumerate(word):\n",
    "                ranking[idx] += c\n",
    "        for k,v in ranking.items():\n",
    "            ranking[k] = Counter(v)\n",
    "        self.ranked_word = {word: [ranking[idx][c] for idx, c in enumerate(word)] for word in words}\n",
    "\n",
    "    def get_fitting_letters(self, words):\n",
    "        joined_words = ''.join(words)\n",
    "        self.fitting = set(joined_words)\n",
    "        rank_it = Counter(joined_words)\n",
    "        \n",
    "        potential_words = set()\n",
    "        for l in self.fitting:\n",
    "            potential_words |= WordleSolver.all_words[l]['all']\n",
    "\n",
    "        for c in set.union(*self.letters['g'].values()):\n",
    "            rank_it[c] = 0\n",
    "        for c in set.union(*self.letters['y'].values()):\n",
    "            rank_it[c] = int(rank_it[c]/(100-self.y_letter_removal_guess))\n",
    "        \n",
    "        #for x in self.letters['y'].values():\n",
    "            #self.fitting -= x\n",
    "        \n",
    "        dictio = {w: sum([rank_it[l] for l in set(w) if l in self.fitting]) for w in potential_words}\n",
    "        self.guesses_ = list(sorted(potential_words, reverse=True, key=lambda x: dictio[x]))\n",
    "        #print(self.guesses_[0], dictio[self.guesses_[0]])\n",
    "        self._guesses_ = list(itertools.takewhile(lambda x: dictio[x]>=dictio[self.guesses_[0]], self.guesses_))\n",
    "        #print(len(self._guesses_), len(self.guesses_))\n",
    "        return self.guesses_\n",
    "        #return self.analysis_hard_mode(_guesses_)\n",
    "        \n",
    "        "
   ]
  },
  {
   "cell_type": "code",
   "execution_count": null,
   "metadata": {},
   "outputs": [],
   "source": [
    "length_final_words, amount_of_letters, length_history"
   ]
  }
 ],
 "metadata": {
  "kernelspec": {
   "display_name": "Python 3 (ipykernel)",
   "language": "python",
   "name": "python3"
  },
  "language_info": {
   "codemirror_mode": {
    "name": "ipython",
    "version": 3
   },
   "file_extension": ".py",
   "mimetype": "text/x-python",
   "name": "python",
   "nbconvert_exporter": "python",
   "pygments_lexer": "ipython3",
   "version": "3.11.0"
  }
 },
 "nbformat": 4,
 "nbformat_minor": 4
}
