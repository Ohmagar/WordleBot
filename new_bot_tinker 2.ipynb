{
 "cells": [
  {
   "cell_type": "code",
   "execution_count": 7,
   "metadata": {},
   "outputs": [],
   "source": [
    "import json\n",
    "with open('problematic_2_5.json', 'r+') as fp:\n",
    "    problematic = json.load(fp)['problematic_2_5']\n",
    "with open('combined_wordlist_2.txt', 'r') as f:\n",
    "    wordlist = f.read().split('\\n')[1:]\n",
    "historylist = []\n",
    "analytical = {}\n",
    "roundlist = []\n",
    "for j in range(13):\n",
    "    roundlist.append((1000*j, 1000*(j+1)))\n",
    "roundlist[-1] = (12000, 12972)\n",
    "#{2: 22, 3: 323, 4: 629, 5: 673, 6: 242, 7: 79, 8: 24, 9: 7, 10: 1}\n",
    "#{2: 22, 3: 323, 4: 635, 5: 535, 6: 276, 7: 112, 8: 63, 9: 20, 10: 8, 11: 5, 12: 1}"
   ]
  },
  {
   "cell_type": "code",
   "execution_count": 61,
   "metadata": {
    "scrolled": true
   },
   "outputs": [
    {
     "name": "stdout",
     "output_type": "stream",
     "text": [
      "99.99|12971|12972|regma\n",
      "Done\n"
     ]
    }
   ],
   "source": [
    "history_guess_length = {i: list() for i in range(0,20)}\n",
    "for rounds in [(0, 12972)]:\n",
    "    #length_final_words=4, amount_of_letters=5, length_history=2, length_outlist=10, y_letter_removal_guess=0):\n",
    "    player = AutoWordlePlayer(wordlist, rounds, WordleSolver, 3, 5, 2, 10, 1)\n",
    "    player.play_round()\n",
    "    for kl in player.history_history:\n",
    "        history_guess_length[len(kl)].append(kl)\n",
    "print('')\n",
    "print('Done')"
   ]
  },
  {
   "cell_type": "code",
   "execution_count": 62,
   "metadata": {},
   "outputs": [],
   "source": [
    "import json\n",
    "with open('guess_analysis.json', 'w+') as fp:\n",
    "    json.dump(history_guess_length, fp, indent=4)"
   ]
  },
  {
   "cell_type": "code",
   "execution_count": 63,
   "metadata": {
    "scrolled": false
   },
   "outputs": [
    {
     "name": "stdout",
     "output_type": "stream",
     "text": [
      "{0: 0, 1: 1, 2: 31, 3: 1558, 4: 5551, 5: 4289, 6: 1252, 7: 237, 8: 48, 9: 5, 10: 0, 11: 0, 12: 0, 13: 0, 14: 0, 15: 0, 16: 0, 17: 0, 18: 0, 19: 0}\n"
     ]
    }
   ],
   "source": [
    "ld = {k: len(v) for k,v in history_guess_length.items()}\n",
    "print(ld)"
   ]
  },
  {
   "cell_type": "code",
   "execution_count": 56,
   "metadata": {},
   "outputs": [
    {
     "name": "stdout",
     "output_type": "stream",
     "text": [
      "{0: 0, 1: 1, 2: 1, 3: 58, 4: 215, 5: 158, 6: 52, 7: 12, 8: 3, 9: 0, 10: 0, 11: 0, 12: 0, 13: 0, 14: 0, 15: 0, 16: 0, 17: 0, 18: 0, 19: 0}\n"
     ]
    }
   ],
   "source": [
    "ld = {k: len(v) for k,v in history_guess_length.items()}\n",
    "print(ld)"
   ]
  },
  {
   "cell_type": "code",
   "execution_count": 27,
   "metadata": {
    "scrolled": true
   },
   "outputs": [
    {
     "name": "stdout",
     "output_type": "stream",
     "text": [
      "{0: 0, 1: 1, 2: 1, 3: 47, 4: 188, 5: 178, 6: 66, 7: 16, 8: 3, 9: 0, 10: 0, 11: 0, 12: 0, 13: 0, 14: 0, 15: 0, 16: 0, 17: 0, 18: 0, 19: 0}\n"
     ]
    }
   ],
   "source": [
    "ld = {k: len(v) for k,v in history_guess_length.items()}\n",
    "print(ld)"
   ]
  },
  {
   "cell_type": "code",
   "execution_count": 5,
   "metadata": {},
   "outputs": [
    {
     "name": "stdout",
     "output_type": "stream",
     "text": [
      "tread\n"
     ]
    }
   ],
   "source": [
    "solver = WordleSolver()\n",
    "print(solver.guess([['arose', 'ggrry']]))"
   ]
  },
  {
   "cell_type": "code",
   "execution_count": 64,
   "metadata": {},
   "outputs": [
    {
     "data": {
      "text/plain": [
       "4.47008942337342"
      ]
     },
     "execution_count": 64,
     "metadata": {},
     "output_type": "execute_result"
    }
   ],
   "source": [
    "sum(k*v for k,v in ld.items())/sum(ld.values())"
   ]
  },
  {
   "cell_type": "code",
   "execution_count": 65,
   "metadata": {},
   "outputs": [
    {
     "name": "stdout",
     "output_type": "stream",
     "text": [
      "[('arose', 'yyryy')]\n",
      "welkt\n",
      "[('arose', 'yyryy'), ('welkt', 'ryrrr')]\n",
      "chynd\n",
      "[('arose', 'yyryy'), ('welkt', 'ryrrr'), ('chynd', 'rrrrr')]\n",
      "vamps\n",
      "[('arose', 'yyryy'), ('welkt', 'ryrrr'), ('chynd', 'rrrrr'), ('vamps', 'rgrrg')]\n",
      "befog\n",
      "[('arose', 'yyryy'), ('welkt', 'ryrrr'), ('chynd', 'rrrrr'), ('vamps', 'rgrrg'), ('befog', 'ryrrr')]\n",
      "zaxes\n",
      "[('arose', 'yyryy'), ('welkt', 'ryrrr'), ('chynd', 'rrrrr'), ('vamps', 'rgrrg'), ('befog', 'ryrrr'), ('zaxes', 'rgrgg')]\n",
      "rajes\n",
      "[('arose', 'yyryy'), ('welkt', 'ryrrr'), ('chynd', 'rrrrr'), ('vamps', 'rgrrg'), ('befog', 'ryrrr'), ('zaxes', 'rgrgg'), ('rajes', 'ggrgg')]\n",
      "rases\n",
      "[('arose', 'yyryy'), ('welkt', 'ryrrr'), ('chynd', 'rrrrr'), ('vamps', 'rgrrg'), ('befog', 'ryrrr'), ('zaxes', 'rgrgg'), ('rajes', 'ggrgg'), ('rases', 'ggygg')]\n",
      "rares\n",
      "[('arose', 'rrryy')]\n",
      "unlit\n",
      "[('arose', 'rrryy'), ('unlit', 'ryrry')]\n",
      "whyda\n",
      "[('arose', 'rrryy'), ('unlit', 'ryrry'), ('whyda', 'rrrrr')]\n",
      "gecks\n",
      "[('arose', 'rrryy'), ('unlit', 'ryrry'), ('whyda', 'rrrrr'), ('gecks', 'rgrrg')]\n",
      "vibex\n",
      "[('arose', 'rrryy'), ('unlit', 'ryrry'), ('whyda', 'rrrrr'), ('gecks', 'rgrrg'), ('vibex', 'rrryr')]\n",
      "pelfs\n",
      "[('arose', 'rrryy'), ('unlit', 'ryrry'), ('whyda', 'rrrrr'), ('gecks', 'rgrrg'), ('vibex', 'rrryr'), ('pelfs', 'rgrrg')]\n",
      "tents\n",
      "[('arose', 'rrryy'), ('unlit', 'ryrry'), ('whyda', 'rrrrr'), ('gecks', 'rgrrg'), ('vibex', 'rrryr'), ('pelfs', 'rgrrg'), ('tents', 'ygygg')]\n",
      "nests\n",
      "[('arose', 'rrryy'), ('unlit', 'ryrry'), ('whyda', 'rrrrr'), ('gecks', 'rgrrg'), ('vibex', 'rrryr'), ('pelfs', 'rgrrg'), ('tents', 'ygygg'), ('nests', 'ggygg')]\n",
      "netts\n",
      "[('arose', 'rryyy')]\n",
      "clint\n",
      "[('arose', 'rryyy'), ('clint', 'rrryr')]\n",
      "dumky\n",
      "[('arose', 'rryyy'), ('clint', 'rrryr'), ('dumky', 'rrrrr')]\n",
      "howfs\n",
      "[('arose', 'rryyy'), ('clint', 'rrryr'), ('dumky', 'rrrrr'), ('howfs', 'rgrrg')]\n",
      "poxes\n",
      "[('arose', 'rryyy'), ('clint', 'rrryr'), ('dumky', 'rrrrr'), ('howfs', 'rgrrg'), ('poxes', 'rgrgg')]\n",
      "jobes\n",
      "[('arose', 'rryyy'), ('clint', 'rrryr'), ('dumky', 'rrrrr'), ('howfs', 'rgrrg'), ('poxes', 'rgrgg'), ('jobes', 'rgrgg')]\n",
      "zones\n",
      "[('arose', 'rryyy'), ('clint', 'rrryr'), ('dumky', 'rrrrr'), ('howfs', 'rgrrg'), ('poxes', 'rgrgg'), ('jobes', 'rgrgg'), ('zones', 'rgggg')]\n",
      "sones\n",
      "[('arose', 'rryyy'), ('clint', 'rrryr'), ('dumky', 'rrrrr'), ('howfs', 'rgrrg'), ('poxes', 'rgrgg'), ('jobes', 'rgrgg'), ('zones', 'rgggg'), ('sones', 'ygggg')]\n",
      "nones\n",
      "[('arose', 'rrryy')]\n",
      "unlit\n",
      "[('arose', 'rrryy'), ('unlit', 'rrrry')]\n",
      "hempy\n",
      "[('arose', 'rrryy'), ('unlit', 'rrrry'), ('hempy', 'rgrrr')]\n",
      "befog\n",
      "[('arose', 'rrryy'), ('unlit', 'rrrry'), ('hempy', 'rgrrr'), ('befog', 'rgrrr')]\n",
      "wacks\n",
      "[('arose', 'rrryy'), ('unlit', 'rrrry'), ('hempy', 'rgrrr'), ('befog', 'rgrrr'), ('wacks', 'rrrrg')]\n",
      "vexed\n",
      "[('arose', 'rrryy'), ('unlit', 'rrrry'), ('hempy', 'rgrrr'), ('befog', 'rgrrr'), ('wacks', 'rrrrg'), ('vexed', 'rgryr')]\n",
      "jeeze\n",
      "[('arose', 'rrryy'), ('unlit', 'rrrry'), ('hempy', 'rgrrr'), ('befog', 'rgrrr'), ('wacks', 'rrrrg'), ('vexed', 'rgryr'), ('jeeze', 'rgyry')]\n",
      "setts\n",
      "[('arose', 'rrryy'), ('unlit', 'rrrry'), ('hempy', 'rgrrr'), ('befog', 'rgrrr'), ('wacks', 'rrrrg'), ('vexed', 'rgryr'), ('jeeze', 'rgyry'), ('setts', 'ygygg')]\n",
      "tests\n",
      "[('arose', 'rrryr')]\n",
      "unlit\n",
      "[('arose', 'rrryr'), ('unlit', 'rrgyr')]\n",
      "dumky\n",
      "[('arose', 'rrryr'), ('unlit', 'rrgyr'), ('dumky', 'rrrrr')]\n",
      "pilch\n",
      "[('arose', 'rrryr'), ('unlit', 'rrgyr'), ('dumky', 'rrrrr'), ('pilch', 'rggrr')]\n",
      "gowfs\n",
      "[('arose', 'rrryr'), ('unlit', 'rrgyr'), ('dumky', 'rrrrr'), ('pilch', 'rggrr'), ('gowfs', 'rrrrg')]\n",
      "jibes\n",
      "[('arose', 'rrryr'), ('unlit', 'rrgyr'), ('dumky', 'rrrrr'), ('pilch', 'rggrr'), ('gowfs', 'rrrrg'), ('jibes', 'rgrrg')]\n",
      "vizor\n",
      "[('arose', 'rrryr'), ('unlit', 'rrgyr'), ('dumky', 'rrrrr'), ('pilch', 'rggrr'), ('gowfs', 'rrrrg'), ('jibes', 'rgrrg'), ('vizor', 'rgrrr')]\n",
      "sills\n",
      "[('arose', 'rrryr'), ('unlit', 'rrgyr'), ('dumky', 'rrrrr'), ('pilch', 'rggrr'), ('gowfs', 'rrrrg'), ('jibes', 'rgrrg'), ('vizor', 'rgrrr'), ('sills', 'ygggg')]\n",
      "lills\n"
     ]
    }
   ],
   "source": [
    "solver = WordleSolver()\n",
    "for kl in history_guess_length[9]:\n",
    "    solver = WordleSolver()\n",
    "    for i in range(1,9):\n",
    "        print(kl[:i])\n",
    "        print(solver.guess(kl[:i]))"
   ]
  },
  {
   "cell_type": "code",
   "execution_count": 59,
   "metadata": {},
   "outputs": [
    {
     "name": "stdout",
     "output_type": "stream",
     "text": [
      "{0: 0, 1: 1, 2: 1, 3: 58, 4: 215, 5: 158, 6: 52, 7: 12, 8: 3, 9: 0, 10: 0, 11: 0, 12: 0, 13: 0, 14: 0, 15: 0, 16: 0, 17: 0, 18: 0, 19: 0}\n"
     ]
    }
   ],
   "source": [
    "ld = {k: len(v) for k,v in history_guess_length.items()}\n",
    "print(ld)"
   ]
  },
  {
   "cell_type": "code",
   "execution_count": 23,
   "metadata": {},
   "outputs": [],
   "source": [
    "problematic = []\n",
    "for kl in player.history_history:\n",
    "    if len(kl) >= 5:\n",
    "        problematic.append(kl[-1][0])"
   ]
  },
  {
   "cell_type": "code",
   "execution_count": 8,
   "metadata": {},
   "outputs": [],
   "source": [
    "#dz = {'problematic_2_5': problematic.copy()}\n",
    "import json\n",
    "with open('4, 5, 2, 10.json', 'w+') as fp:\n",
    "    json.dump(historylist, fp, indent=4)"
   ]
  },
  {
   "cell_type": "code",
   "execution_count": 6,
   "metadata": {},
   "outputs": [],
   "source": [
    "import random\n",
    "from time import perf_counter_ns as pcn\n",
    "class AutoWordlePlayer:\n",
    "    def __init__(self, wordlist, n, agent, length_final_words, amount_of_letters, length_history, length_outlist, y_selector):\n",
    "        self.wordlist = wordlist\n",
    "        self.current_word = random.choice(wordlist)\n",
    "        self.rounds_played = 0\n",
    "        self.total_guesses = 0\n",
    "        self.feedback_history = []\n",
    "        self.times_per_round = []\n",
    "        if isinstance(n, tuple):\n",
    "            self.n = n \n",
    "        elif isinstance(n, list):\n",
    "            self.wordlist = n\n",
    "            self.n = [0, len(self.wordlist)]\n",
    "        else:\n",
    "            self.n = [0, n]\n",
    "        self.solving_agent = agent\n",
    "        self.stats = {i:0 for i in range(20)}\n",
    "        self.history_history = []\n",
    "        self.threes = set()\n",
    "        self.guess_history_output = []\n",
    "        self.length_final_words = length_final_words\n",
    "        self.amount_of_letters = amount_of_letters\n",
    "        self.length_history = length_history\n",
    "        self.length_outlist = length_outlist\n",
    "        self.y_selector = y_selector\n",
    "\n",
    "    def enter_playmode(self):\n",
    "        print(f\"Entering play mode with word: {self.current_word}\")\n",
    "\n",
    "    def make_guess(self, guess):\n",
    "        feedback = self._get_feedback(guess)\n",
    "        self.total_guesses += 1\n",
    "        self.feedback_history.append((guess, feedback))\n",
    "        return (guess, feedback)\n",
    "\n",
    "    def _get_feedback(self, guess):\n",
    "        feedback = ''\n",
    "        for g, w in zip(guess, self.current_word):\n",
    "            if g == w:\n",
    "                feedback += 'g'\n",
    "            elif g in self.current_word:\n",
    "                feedback += 'y'\n",
    "            else:\n",
    "                feedback += 'r'\n",
    "        return feedback\n",
    "\n",
    "    def play_round(self):\n",
    "        for i in range(*self.n):\n",
    "            self.feedback_history = []\n",
    "            self.solver = self.solving_agent(True, self.length_final_words, self.amount_of_letters, self.length_history, self.length_outlist, self.y_selector)\n",
    "            self.current_word = wordlist[i]\n",
    "            start = pcn()\n",
    "            round_guesses = 0\n",
    "            while True:\n",
    "                guess = self.solver.guess(self.feedback_history)\n",
    "                self.guess_history_output.append(guess)\n",
    "                feedback = self.make_guess(guess)\n",
    "                #print(self.current_word, guess)\n",
    "                round_guesses += 1\n",
    "                if feedback[1] == 'ggggg' or round_guesses >= 15:\n",
    "                    self.stats[round_guesses] += 1\n",
    "                    self.times_per_round.append(pcn()-start)\n",
    "                    self.rounds_played += 1\n",
    "                    self.history_history.append(self.feedback_history.copy())\n",
    "                    break\n",
    "            print(f'{(i-self.n[0])/(self.n[1]-self.n[0])*100:04.2f}|{i}|{self.n[1]}|{self.current_word}', end='\\r')\n",
    "\n",
    "    def return_stats(self):\n",
    "        deled = []\n",
    "        for k,v in self.stats.items():\n",
    "            if not v:\n",
    "                deled.append(k)\n",
    "        for x in deled:\n",
    "            del self.stats[x]\n",
    "        return self.stats\n",
    "    def average_guesses(self):\n",
    "        if self.rounds_played == 0:\n",
    "            return 0\n",
    "        return self.total_guesses / self.rounds_played\n",
    "    def average_time(self):\n",
    "        if self.rounds_played == 0:\n",
    "            return 0\n",
    "        return sum(self.times_per_round) / self.rounds_played / 1_000_000_000\n"
   ]
  },
  {
   "cell_type": "code",
   "execution_count": 54,
   "metadata": {},
   "outputs": [],
   "source": [
    "from collections import Counter\n",
    "import itertools\n",
    "class WordleSolver:\n",
    "    with open('combined_wordlist_2.txt', 'r') as f:\n",
    "        read_wordlist = f.read().split('\\n')[1:]\n",
    "        all_words = {c: {i: set() for i in range(5)} for c in 'abcdefghijklmnopqrstuvwxyz'}\n",
    "        for c in 'abcdefghijklmnopqrstuvwxyz':\n",
    "            all_words[c]['all'] = set()\n",
    "        zzz = set()\n",
    "        for word in read_wordlist:\n",
    "            for idx,c in enumerate(word):\n",
    "                all_words[c][idx].add(word)\n",
    "                all_words[c]['all'].add(word)\n",
    "        possible_words = set()\n",
    "        for c in 'abcdefghijklmnopqrstuvwxyz':\n",
    "            possible_words |= all_words[c]['all']\n",
    "\n",
    "    def __init__(self, hard_mode=True, length_final_words=4, amount_of_letters=5, length_history=2, length_outlist=10, y_letter_removal_guess=0):\n",
    "        self.letters = {c: {i: set() for i in range(5)} for c in ('g', 'y', 'r')}\n",
    "        self.possible_words = set()\n",
    "        self.green_words = set()\n",
    "        self.yellow_words = WordleSolver.possible_words.copy()\n",
    "        self.red_words = set()\n",
    "        self.hard_mode = hard_mode\n",
    "        self.length_final_words = length_final_words\n",
    "        self.amount_of_letters = amount_of_letters\n",
    "        self.length_history = length_history\n",
    "        self.length_outlist = length_outlist\n",
    "        self.y_letter_removal_guess = 50\n",
    "\n",
    "    def guess(self, history):\n",
    "        if not history:\n",
    "            return 'arose'\n",
    "        else:\n",
    "            for ch, fb, idx in zip(*history[-1], range(5)):\n",
    "                self.letters[fb][idx].add(ch)\n",
    "                if fb == 'g':\n",
    "                    self.update_green_words(ch, idx)\n",
    "                    pass\n",
    "                elif fb == 'y':\n",
    "                    self.update_yellow_words(ch, idx)\n",
    "                    pass\n",
    "                else:\n",
    "                    self.update_red_words(ch, idx)\n",
    "                    pass\n",
    "        \n",
    "        if self.green_words:\n",
    "            if self.hard_mode:\n",
    "                final_words = (self.yellow_words & self.green_words) - self.red_words\n",
    "            else:\n",
    "                final_words = (self.yellow_words - self.green_words) - self.red_words\n",
    "        else:\n",
    "            final_words = self.yellow_words - self.red_words\n",
    "        #print(final_words)\n",
    "\n",
    "        if len(final_words)<=2:\n",
    "            return list(final_words)[0]\n",
    "        self.create_analysis(final_words)\n",
    "        return self.better_analysis(final_words, history)[0]#, final_words\n",
    "\n",
    "\n",
    "    \n",
    "    def update_green_words(self, letter, position):\n",
    "        if self.green_words:\n",
    "            self.green_words &= WordleSolver.all_words[letter][position]\n",
    "        else:\n",
    "            self.green_words = WordleSolver.all_words[letter][position].copy()\n",
    "    \n",
    "    def update_yellow_words(self, letter, position):\n",
    "        if self.green_words:\n",
    "            self.yellow_words &= self.green_words\n",
    "        self.yellow_words &= (WordleSolver.all_words[letter]['all'] - WordleSolver.all_words[letter][position])\n",
    "\n",
    "    def update_red_words(self, letter, position):\n",
    "        self.red_words |= WordleSolver.all_words[letter]['all']\n",
    "    \n",
    "    def analysis_hard_mode(self, words):\n",
    "        dic = {w: sum([self.ranking[c] for i,c in enumerate(set(w))]) for w in words}\n",
    "        out = sorted(words, reverse=True, key=lambda x: dic[x])\n",
    "        return out\n",
    "    \n",
    "    def create_analysis(self, words):\n",
    "        \n",
    "        self.joined_set = set(''.join(words))\n",
    "        joined = ''.join(words)\n",
    "        self.positional_ranking = {i: Counter(joined[i::5]) for i in range(5)}\n",
    "        self.ranking = Counter(joined)\n",
    "\n",
    "    def better_analysis(self, words, history):\n",
    "        \n",
    "        \"\"\"\n",
    "        for pos, g_set in self.letters['g'].items():\n",
    "            for l in g_set:\n",
    "                self.positional_ranking[pos][l] = 0\n",
    "        for pos, g_set in self.letters['g'].items():\n",
    "            for l in g_set:\n",
    "                self.ranking[l] = 0\n",
    "        \"\"\"\n",
    "        first = set.intersection(*(set(w) for w in words))\n",
    "        #_words = [''.join(c if c not in first else 'T' for c in w) for w in words]\n",
    "        if self.joined_set - first:\n",
    "            dicts = {w: sum(self.ranking[c] for c in set(w) if c not in first) for w in WordleSolver.possible_words}\n",
    "        else:\n",
    "            dicts = {w: sum(self.ranking[c] for c in set(w) if c not in first) for w in words}\n",
    "        max_rank = max(dicts.values())\n",
    "        further_positional = dict()\n",
    "        for k, v in dicts.items():\n",
    "            if v == max_rank:\n",
    "                further_positional[k] = sum(self.positional_ranking[i][c] for i,c in enumerate(k))\n",
    "        #print([k for k,v in further_positional.items() if v])\n",
    "        return sorted(further_positional.keys(), reverse=True, key=lambda x: further_positional[x])\n",
    "\n",
    "\n",
    "    def get_fitting_letters(self, words):\n",
    "        self.fitting = set(self.ranking.keys()) - set.union(*self.letters['g'].values())\n",
    "        potential_words = WordleSolver.possible_words\n",
    "\n",
    "        for pos, g_set in self.letters['g'].items():\n",
    "            for l in g_set:\n",
    "                self.positional_ranking[pos][l] = 0\n",
    "        for pos, g_set in self.letters['g'].items():\n",
    "            for l in g_set:\n",
    "                self.ranking[l] = 0\n",
    "        if not self.y_letter_removal_guess:\n",
    "            for pos, y_set in self.letters['y'].items():\n",
    "                for l in y_set:\n",
    "                    self.positional_ranking[pos][l] = 0\n",
    "        \n",
    "        if len(set.union(*self.letters['g'].values()))>=90:\n",
    "            for pos, y_set in self.letters['y'].items():\n",
    "                for l in y_set:\n",
    "                    self.positional_ranking[pos][l] = 0\n",
    "            dictio = {w: sum([self.positional_ranking[i][l] for i, l in enumerate(w)]) for w in potential_words}\n",
    "            self.guesses_ = list(sorted(potential_words, reverse=True, key=lambda x: dictio[x]))\n",
    "            return self.guesses_\n",
    "        dictio = {w: sum([self.ranking[l] for i, l in enumerate(set(w))]) for w in potential_words}\n",
    "        self.guesses_ = list(sorted(potential_words, reverse=True, key=lambda x: dictio[x]))\n",
    "        return self.guesses_"
   ]
  },
  {
   "cell_type": "code",
   "execution_count": 4,
   "metadata": {},
   "outputs": [
    {
     "data": {
      "text/plain": [
       "['kebTp', 'probT', 'wTnks']"
      ]
     },
     "execution_count": 4,
     "metadata": {},
     "output_type": "execute_result"
    }
   ],
   "source": [
    "words = ['kebap', 'proba', 'wanks']\n",
    "first = set.intersection(*(set(w) for w in words))\n",
    "words = [''.join(c if c not in first else 'T' for c in w) for w in words]\n",
    "words"
   ]
  },
  {
   "cell_type": "code",
   "execution_count": 21,
   "metadata": {},
   "outputs": [
    {
     "data": {
      "text/plain": [
       "[1, 2]"
      ]
     },
     "execution_count": 21,
     "metadata": {},
     "output_type": "execute_result"
    }
   ],
   "source": [
    "[1,2,3,4][:2]"
   ]
  }
 ],
 "metadata": {
  "kernelspec": {
   "display_name": "Python 3 (ipykernel)",
   "language": "python",
   "name": "python3"
  },
  "language_info": {
   "codemirror_mode": {
    "name": "ipython",
    "version": 3
   },
   "file_extension": ".py",
   "mimetype": "text/x-python",
   "name": "python",
   "nbconvert_exporter": "python",
   "pygments_lexer": "ipython3",
   "version": "3.11.0"
  }
 },
 "nbformat": 4,
 "nbformat_minor": 4
}
